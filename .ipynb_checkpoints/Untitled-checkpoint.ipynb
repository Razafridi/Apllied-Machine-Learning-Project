{
 "cells": [
  {
   "cell_type": "code",
   "execution_count": 1,
   "id": "eea16afd",
   "metadata": {},
   "outputs": [],
   "source": [
    "from sklearn.metrics.pairwise import cosine_similarity\n",
    "from sklearn.feature_extraction.text import TfidfVectorizer"
   ]
  },
  {
   "cell_type": "code",
   "execution_count": null,
   "id": "13e42b7c",
   "metadata": {},
   "outputs": [],
   "source": [
    "\n"
   ]
  },
  {
   "cell_type": "code",
   "execution_count": null,
   "id": "7b857de1",
   "metadata": {},
   "outputs": [],
   "source": []
  },
  {
   "cell_type": "code",
   "execution_count": null,
   "id": "0a4eb024",
   "metadata": {},
   "outputs": [],
   "source": []
  },
  {
   "cell_type": "code",
   "execution_count": 2,
   "id": "582d1b0c",
   "metadata": {},
   "outputs": [],
   "source": [
    "#import dataset\n",
    "import pandas as pd\n",
    "movies = pd.read_csv('./Dataset/imdb_top_1000.csv')"
   ]
  },
  {
   "cell_type": "code",
   "execution_count": 3,
   "id": "d3ee6b8d",
   "metadata": {},
   "outputs": [
    {
     "data": {
      "text/html": [
       "<div>\n",
       "<style scoped>\n",
       "    .dataframe tbody tr th:only-of-type {\n",
       "        vertical-align: middle;\n",
       "    }\n",
       "\n",
       "    .dataframe tbody tr th {\n",
       "        vertical-align: top;\n",
       "    }\n",
       "\n",
       "    .dataframe thead th {\n",
       "        text-align: right;\n",
       "    }\n",
       "</style>\n",
       "<table border=\"1\" class=\"dataframe\">\n",
       "  <thead>\n",
       "    <tr style=\"text-align: right;\">\n",
       "      <th></th>\n",
       "      <th>Poster_Link</th>\n",
       "      <th>Series_Title</th>\n",
       "      <th>Released_Year</th>\n",
       "      <th>Certificate</th>\n",
       "      <th>Runtime</th>\n",
       "      <th>Genre</th>\n",
       "      <th>IMDB_Rating</th>\n",
       "      <th>Overview</th>\n",
       "      <th>Meta_score</th>\n",
       "      <th>Director</th>\n",
       "      <th>Star1</th>\n",
       "      <th>Star2</th>\n",
       "      <th>Star3</th>\n",
       "      <th>Star4</th>\n",
       "      <th>No_of_Votes</th>\n",
       "      <th>Gross</th>\n",
       "    </tr>\n",
       "  </thead>\n",
       "  <tbody>\n",
       "    <tr>\n",
       "      <th>0</th>\n",
       "      <td>https://m.media-amazon.com/images/M/MV5BMDFkYT...</td>\n",
       "      <td>The Shawshank Redemption</td>\n",
       "      <td>1994</td>\n",
       "      <td>A</td>\n",
       "      <td>142 min</td>\n",
       "      <td>Drama</td>\n",
       "      <td>9.3</td>\n",
       "      <td>Two imprisoned men bond over a number of years...</td>\n",
       "      <td>80.0</td>\n",
       "      <td>Frank Darabont</td>\n",
       "      <td>Tim Robbins</td>\n",
       "      <td>Morgan Freeman</td>\n",
       "      <td>Bob Gunton</td>\n",
       "      <td>William Sadler</td>\n",
       "      <td>2343110</td>\n",
       "      <td>28,341,469</td>\n",
       "    </tr>\n",
       "    <tr>\n",
       "      <th>1</th>\n",
       "      <td>https://m.media-amazon.com/images/M/MV5BM2MyNj...</td>\n",
       "      <td>The Godfather</td>\n",
       "      <td>1972</td>\n",
       "      <td>A</td>\n",
       "      <td>175 min</td>\n",
       "      <td>Crime, Drama</td>\n",
       "      <td>9.2</td>\n",
       "      <td>An organized crime dynasty's aging patriarch t...</td>\n",
       "      <td>100.0</td>\n",
       "      <td>Francis Ford Coppola</td>\n",
       "      <td>Marlon Brando</td>\n",
       "      <td>Al Pacino</td>\n",
       "      <td>James Caan</td>\n",
       "      <td>Diane Keaton</td>\n",
       "      <td>1620367</td>\n",
       "      <td>134,966,411</td>\n",
       "    </tr>\n",
       "    <tr>\n",
       "      <th>2</th>\n",
       "      <td>https://m.media-amazon.com/images/M/MV5BMTMxNT...</td>\n",
       "      <td>The Dark Knight</td>\n",
       "      <td>2008</td>\n",
       "      <td>UA</td>\n",
       "      <td>152 min</td>\n",
       "      <td>Action, Crime, Drama</td>\n",
       "      <td>9.0</td>\n",
       "      <td>When the menace known as the Joker wreaks havo...</td>\n",
       "      <td>84.0</td>\n",
       "      <td>Christopher Nolan</td>\n",
       "      <td>Christian Bale</td>\n",
       "      <td>Heath Ledger</td>\n",
       "      <td>Aaron Eckhart</td>\n",
       "      <td>Michael Caine</td>\n",
       "      <td>2303232</td>\n",
       "      <td>534,858,444</td>\n",
       "    </tr>\n",
       "    <tr>\n",
       "      <th>3</th>\n",
       "      <td>https://m.media-amazon.com/images/M/MV5BMWMwMG...</td>\n",
       "      <td>The Godfather: Part II</td>\n",
       "      <td>1974</td>\n",
       "      <td>A</td>\n",
       "      <td>202 min</td>\n",
       "      <td>Crime, Drama</td>\n",
       "      <td>9.0</td>\n",
       "      <td>The early life and career of Vito Corleone in ...</td>\n",
       "      <td>90.0</td>\n",
       "      <td>Francis Ford Coppola</td>\n",
       "      <td>Al Pacino</td>\n",
       "      <td>Robert De Niro</td>\n",
       "      <td>Robert Duvall</td>\n",
       "      <td>Diane Keaton</td>\n",
       "      <td>1129952</td>\n",
       "      <td>57,300,000</td>\n",
       "    </tr>\n",
       "    <tr>\n",
       "      <th>4</th>\n",
       "      <td>https://m.media-amazon.com/images/M/MV5BMWU4N2...</td>\n",
       "      <td>12 Angry Men</td>\n",
       "      <td>1957</td>\n",
       "      <td>U</td>\n",
       "      <td>96 min</td>\n",
       "      <td>Crime, Drama</td>\n",
       "      <td>9.0</td>\n",
       "      <td>A jury holdout attempts to prevent a miscarria...</td>\n",
       "      <td>96.0</td>\n",
       "      <td>Sidney Lumet</td>\n",
       "      <td>Henry Fonda</td>\n",
       "      <td>Lee J. Cobb</td>\n",
       "      <td>Martin Balsam</td>\n",
       "      <td>John Fiedler</td>\n",
       "      <td>689845</td>\n",
       "      <td>4,360,000</td>\n",
       "    </tr>\n",
       "  </tbody>\n",
       "</table>\n",
       "</div>"
      ],
      "text/plain": [
       "                                         Poster_Link  \\\n",
       "0  https://m.media-amazon.com/images/M/MV5BMDFkYT...   \n",
       "1  https://m.media-amazon.com/images/M/MV5BM2MyNj...   \n",
       "2  https://m.media-amazon.com/images/M/MV5BMTMxNT...   \n",
       "3  https://m.media-amazon.com/images/M/MV5BMWMwMG...   \n",
       "4  https://m.media-amazon.com/images/M/MV5BMWU4N2...   \n",
       "\n",
       "               Series_Title Released_Year Certificate  Runtime  \\\n",
       "0  The Shawshank Redemption          1994           A  142 min   \n",
       "1             The Godfather          1972           A  175 min   \n",
       "2           The Dark Knight          2008          UA  152 min   \n",
       "3    The Godfather: Part II          1974           A  202 min   \n",
       "4              12 Angry Men          1957           U   96 min   \n",
       "\n",
       "                  Genre  IMDB_Rating  \\\n",
       "0                 Drama          9.3   \n",
       "1          Crime, Drama          9.2   \n",
       "2  Action, Crime, Drama          9.0   \n",
       "3          Crime, Drama          9.0   \n",
       "4          Crime, Drama          9.0   \n",
       "\n",
       "                                            Overview  Meta_score  \\\n",
       "0  Two imprisoned men bond over a number of years...        80.0   \n",
       "1  An organized crime dynasty's aging patriarch t...       100.0   \n",
       "2  When the menace known as the Joker wreaks havo...        84.0   \n",
       "3  The early life and career of Vito Corleone in ...        90.0   \n",
       "4  A jury holdout attempts to prevent a miscarria...        96.0   \n",
       "\n",
       "               Director           Star1           Star2          Star3  \\\n",
       "0        Frank Darabont     Tim Robbins  Morgan Freeman     Bob Gunton   \n",
       "1  Francis Ford Coppola   Marlon Brando       Al Pacino     James Caan   \n",
       "2     Christopher Nolan  Christian Bale    Heath Ledger  Aaron Eckhart   \n",
       "3  Francis Ford Coppola       Al Pacino  Robert De Niro  Robert Duvall   \n",
       "4          Sidney Lumet     Henry Fonda     Lee J. Cobb  Martin Balsam   \n",
       "\n",
       "            Star4  No_of_Votes        Gross  \n",
       "0  William Sadler      2343110   28,341,469  \n",
       "1    Diane Keaton      1620367  134,966,411  \n",
       "2   Michael Caine      2303232  534,858,444  \n",
       "3    Diane Keaton      1129952   57,300,000  \n",
       "4    John Fiedler       689845    4,360,000  "
      ]
     },
     "execution_count": 3,
     "metadata": {},
     "output_type": "execute_result"
    }
   ],
   "source": [
    "movies.head()"
   ]
  },
  {
   "cell_type": "code",
   "execution_count": 4,
   "id": "01db9d1b",
   "metadata": {},
   "outputs": [
    {
     "name": "stdout",
     "output_type": "stream",
     "text": [
      "<class 'pandas.core.frame.DataFrame'>\n",
      "RangeIndex: 1000 entries, 0 to 999\n",
      "Data columns (total 16 columns):\n",
      " #   Column         Non-Null Count  Dtype  \n",
      "---  ------         --------------  -----  \n",
      " 0   Poster_Link    1000 non-null   object \n",
      " 1   Series_Title   1000 non-null   object \n",
      " 2   Released_Year  1000 non-null   object \n",
      " 3   Certificate    899 non-null    object \n",
      " 4   Runtime        1000 non-null   object \n",
      " 5   Genre          1000 non-null   object \n",
      " 6   IMDB_Rating    1000 non-null   float64\n",
      " 7   Overview       1000 non-null   object \n",
      " 8   Meta_score     843 non-null    float64\n",
      " 9   Director       1000 non-null   object \n",
      " 10  Star1          1000 non-null   object \n",
      " 11  Star2          1000 non-null   object \n",
      " 12  Star3          1000 non-null   object \n",
      " 13  Star4          1000 non-null   object \n",
      " 14  No_of_Votes    1000 non-null   int64  \n",
      " 15  Gross          831 non-null    object \n",
      "dtypes: float64(2), int64(1), object(13)\n",
      "memory usage: 125.1+ KB\n"
     ]
    }
   ],
   "source": [
    "movies.info()"
   ]
  },
  {
   "cell_type": "code",
   "execution_count": 5,
   "id": "babfab00",
   "metadata": {},
   "outputs": [],
   "source": [
    "movies = movies.drop(columns=['Certificate','Runtime','Meta_score','No_of_Votes','Gross'])"
   ]
  },
  {
   "cell_type": "code",
   "execution_count": 6,
   "id": "6e8d553b",
   "metadata": {},
   "outputs": [
    {
     "data": {
      "text/plain": [
       "(1000, 11)"
      ]
     },
     "execution_count": 6,
     "metadata": {},
     "output_type": "execute_result"
    }
   ],
   "source": [
    "movies.shape"
   ]
  },
  {
   "cell_type": "code",
   "execution_count": 7,
   "id": "51b73be3",
   "metadata": {},
   "outputs": [],
   "source": [
    "movies = movies.dropna()"
   ]
  },
  {
   "cell_type": "code",
   "execution_count": 8,
   "id": "39ba7e83",
   "metadata": {},
   "outputs": [],
   "source": [
    "movies['full_description'] =movies['Series_Title'] +\" \"+ movies['Released_Year']+\" \"+ movies['Overview'] +\" \"+ movies['Director'] + \" \"+ movies['Star1'] + \" \"+ movies['Star2']+ movies['Star3']+ movies['Star4']"
   ]
  },
  {
   "cell_type": "code",
   "execution_count": 9,
   "id": "c5d96587",
   "metadata": {},
   "outputs": [
    {
     "data": {
      "text/plain": [
       "'The Shawshank Redemption 1994 Two imprisoned men bond over a number of years, finding solace and eventual redemption through acts of common decency. Frank Darabont Tim Robbins Morgan FreemanBob GuntonWilliam Sadler'"
      ]
     },
     "execution_count": 9,
     "metadata": {},
     "output_type": "execute_result"
    }
   ],
   "source": [
    "movies['full_description'][0]"
   ]
  },
  {
   "cell_type": "code",
   "execution_count": 10,
   "id": "1b193bd5",
   "metadata": {},
   "outputs": [],
   "source": [
    "movie_df = movies[['Poster_Link' ,'Series_Title', 'full_description']]"
   ]
  },
  {
   "cell_type": "code",
   "execution_count": 11,
   "id": "70113c97",
   "metadata": {},
   "outputs": [],
   "source": [
    "documents = list(movie_df['full_description'])\n",
    "# documents"
   ]
  },
  {
   "cell_type": "code",
   "execution_count": 12,
   "id": "a6755ab0",
   "metadata": {},
   "outputs": [],
   "source": [
    "\n",
    "tfidf_vectorizer = TfidfVectorizer()\n",
    "tfidf_vectors = tfidf_vectorizer.fit_transform(documents)"
   ]
  },
  {
   "cell_type": "code",
   "execution_count": 13,
   "id": "66492361",
   "metadata": {},
   "outputs": [],
   "source": [
    "movies_array = tfidf_vectors.toarray()"
   ]
  },
  {
   "cell_type": "code",
   "execution_count": 14,
   "id": "e7e375f1",
   "metadata": {},
   "outputs": [],
   "source": [
    "def find_index(movie):\n",
    "    index = 0\n",
    "    for mov in range(len(movie_df['Series_Title'])):\n",
    "        if movie == movie_df['Series_Title'][mov]:\n",
    "            index = mov\n",
    "    return index"
   ]
  },
  {
   "cell_type": "code",
   "execution_count": 15,
   "id": "b649970f",
   "metadata": {},
   "outputs": [],
   "source": [
    "# movies_index = find_index(\"The Shawshank Redemption\")"
   ]
  },
  {
   "cell_type": "code",
   "execution_count": 16,
   "id": "325e5b2c",
   "metadata": {},
   "outputs": [],
   "source": [
    "def recommendation(movie):\n",
    "    index = find_index(movie)\n",
    "    movie = movies_array[index]\n",
    "    sim = []\n",
    "    for i in range(len(movies_array)):\n",
    "        cos_sim = cosine_similarity([movie] , [movies_array[i]])\n",
    "        sim.append({\"index\":i, 'similarity': cos_sim })\n",
    "    sorted_sim = sorted(sim , key=lambda x: x['similarity'],reverse=True)\n",
    "    \n",
    "#     filter out movies from these indeces\n",
    "    movies_list = []\n",
    "    top_movies = sorted_sim[1:11]\n",
    "    for mov in top_movies:\n",
    "        movies_list.append(movies.loc[mov['index']].to_dict())\n",
    "    return movies_list"
   ]
  },
  {
   "cell_type": "code",
   "execution_count": 17,
   "id": "dbb6dc01",
   "metadata": {},
   "outputs": [],
   "source": [
    "# recommendation(\"The Shawshank Redemption\")"
   ]
  },
  {
   "cell_type": "code",
   "execution_count": null,
   "id": "bead193a",
   "metadata": {},
   "outputs": [],
   "source": []
  },
  {
   "cell_type": "code",
   "execution_count": 18,
   "id": "19337c3d",
   "metadata": {},
   "outputs": [
    {
     "data": {
      "text/plain": [
       "<flask_cors.extension.CORS at 0x216a198a4d0>"
      ]
     },
     "execution_count": 18,
     "metadata": {},
     "output_type": "execute_result"
    }
   ],
   "source": [
    "#Server\n",
    "from flask import Flask, jsonify, request\n",
    "from flask_cors import CORS\n",
    "app = Flask(__name__)\n",
    "\n",
    "CORS(app)"
   ]
  },
  {
   "cell_type": "code",
   "execution_count": 19,
   "id": "d11093cd",
   "metadata": {},
   "outputs": [],
   "source": [
    "movies_list = []\n",
    "for i in range(20):\n",
    "    movies_list.append(movies.loc[i].to_dict())"
   ]
  },
  {
   "cell_type": "code",
   "execution_count": null,
   "id": "284894d0",
   "metadata": {},
   "outputs": [],
   "source": []
  },
  {
   "cell_type": "code",
   "execution_count": 20,
   "id": "6d710d2a",
   "metadata": {},
   "outputs": [],
   "source": [
    "\n",
    "@app.route('/get-movies', methods=['GET'])\n",
    "def get_movies():\n",
    "    return jsonify(movies_list)\n",
    "\n",
    "@app.route('/get-recomm', methods=['POST'])\n",
    "def get_comm():\n",
    "    body = request.json\n",
    "    movie = body.get('name')\n",
    "    movie = recommendation(movie)\n",
    "    return jsonify({\"movies\": movie})\n"
   ]
  },
  {
   "cell_type": "code",
   "execution_count": null,
   "id": "edd20d88",
   "metadata": {},
   "outputs": [
    {
     "name": "stdout",
     "output_type": "stream",
     "text": [
      " * Serving Flask app '__main__'\n",
      " * Debug mode: off\n"
     ]
    },
    {
     "name": "stderr",
     "output_type": "stream",
     "text": [
      "WARNING: This is a development server. Do not use it in a production deployment. Use a production WSGI server instead.\n",
      " * Running on http://127.0.0.1:5000\n",
      "Press CTRL+C to quit\n",
      "127.0.0.1 - - [01/May/2024 10:43:30] \"GET /get-movies HTTP/1.1\" 200 -\n",
      "127.0.0.1 - - [01/May/2024 10:43:30] \"GET /get-movies HTTP/1.1\" 200 -\n",
      "127.0.0.1 - - [01/May/2024 10:44:20] \"GET /get-movies HTTP/1.1\" 200 -\n",
      "127.0.0.1 - - [01/May/2024 10:46:02] \"GET /get-movies HTTP/1.1\" 200 -\n",
      "127.0.0.1 - - [01/May/2024 10:46:40] \"GET /get-movies HTTP/1.1\" 200 -\n",
      "127.0.0.1 - - [01/May/2024 10:46:46] \"GET /get-movies HTTP/1.1\" 200 -\n",
      "127.0.0.1 - - [01/May/2024 10:53:00] \"GET /get-movies HTTP/1.1\" 200 -\n",
      "127.0.0.1 - - [01/May/2024 10:53:00] \"GET /get-movies HTTP/1.1\" 200 -\n",
      "127.0.0.1 - - [01/May/2024 10:55:14] \"GET /get-movies HTTP/1.1\" 200 -\n",
      "127.0.0.1 - - [01/May/2024 11:04:47] \"GET /get-movies HTTP/1.1\" 200 -\n",
      "127.0.0.1 - - [01/May/2024 11:07:07] \"GET /get-movies HTTP/1.1\" 200 -\n",
      "127.0.0.1 - - [01/May/2024 11:07:07] \"GET /get-movies HTTP/1.1\" 200 -\n",
      "127.0.0.1 - - [01/May/2024 11:10:22] \"GET /get-movies HTTP/1.1\" 200 -\n",
      "127.0.0.1 - - [01/May/2024 11:10:22] \"GET /get-movies HTTP/1.1\" 200 -\n",
      "127.0.0.1 - - [01/May/2024 11:10:30] \"GET /get-movies HTTP/1.1\" 200 -\n",
      "127.0.0.1 - - [01/May/2024 11:10:30] \"GET /get-movies HTTP/1.1\" 200 -\n",
      "127.0.0.1 - - [01/May/2024 11:11:53] \"OPTIONS /get-recomm HTTP/1.1\" 200 -\n",
      "127.0.0.1 - - [01/May/2024 11:11:53] \"POST /get-recomm HTTP/1.1\" 405 -\n",
      "127.0.0.1 - - [01/May/2024 11:11:55] \"POST /get-recomm HTTP/1.1\" 405 -\n",
      "127.0.0.1 - - [01/May/2024 11:11:55] \"POST /get-recomm HTTP/1.1\" 405 -\n"
     ]
    }
   ],
   "source": [
    "if __name__ == '__main__':\n",
    "    app.run()"
   ]
  },
  {
   "cell_type": "code",
   "execution_count": null,
   "id": "b91c0d89",
   "metadata": {},
   "outputs": [],
   "source": []
  },
  {
   "cell_type": "code",
   "execution_count": null,
   "id": "cc4518d8",
   "metadata": {},
   "outputs": [],
   "source": []
  }
 ],
 "metadata": {
  "kernelspec": {
   "display_name": "Python 3 (ipykernel)",
   "language": "python",
   "name": "python3"
  },
  "language_info": {
   "codemirror_mode": {
    "name": "ipython",
    "version": 3
   },
   "file_extension": ".py",
   "mimetype": "text/x-python",
   "name": "python",
   "nbconvert_exporter": "python",
   "pygments_lexer": "ipython3",
   "version": "3.11.4"
  }
 },
 "nbformat": 4,
 "nbformat_minor": 5
}
